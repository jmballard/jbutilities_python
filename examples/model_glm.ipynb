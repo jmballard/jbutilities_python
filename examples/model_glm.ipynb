{
 "cells": [
  {
   "cell_type": "markdown",
   "id": "0",
   "metadata": {},
   "source": [
    "# GLM example\n",
    "\n",
    "This file is used to show how to use the methods & classes within the models/glm module."
   ]
  },
  {
   "cell_type": "code",
   "execution_count": 1,
   "id": "1",
   "metadata": {},
   "outputs": [],
   "source": [
    "import numpy as np\n",
    "import pandas as pd\n",
    "from sklearn import datasets\n",
    "\n",
    "# functions to test\n",
    "import os\n",
    "import sys\n",
    "sys.path.append(os.path.abspath(os.path.join(os.getcwd(), '..')))\n",
    "\n",
    "from toolkit.models import glm"
   ]
  },
  {
   "cell_type": "markdown",
   "id": "2",
   "metadata": {},
   "source": [
    "## Utils checks\n",
    "In this section, we test methods from toolkit/models/glm/utils"
   ]
  },
  {
   "cell_type": "code",
   "execution_count": 2,
   "id": "3",
   "metadata": {},
   "outputs": [
    {
     "data": {
      "text/plain": [
       "[0.024712048156881883,\n",
       " 0.0316523470606187,\n",
       " 0.023279259388849338,\n",
       " 0.01621809888432968,\n",
       " 0.03285105092243923,\n",
       " 0.03285084181523246,\n",
       " 0.015826084947343055,\n",
       " 0.02219338101204149,\n",
       " 0.03599369222820725,\n",
       " 0.024269154696098694]"
      ]
     },
     "execution_count": 2,
     "metadata": {},
     "output_type": "execute_result"
    }
   ],
   "source": [
    "# let's suppose we have a Series of prediction with average 0.5.\n",
    "# We correct to get an average of 0.003\n",
    "\n",
    "np.random.seed(42)\n",
    "preds = pd.Series(np.random.normal(loc = 0.5, scale= 0.1, size=10))\n",
    "\n",
    "new_preds = glm.utils.correct_pred(\n",
    "    predictions = preds,\n",
    "    original_avg = 0.5,\n",
    "    new_avg = 0.03\n",
    ")\n",
    "new_preds.to_list()"
   ]
  },
  {
   "cell_type": "code",
   "execution_count": 3,
   "id": "2f33a60c",
   "metadata": {},
   "outputs": [
    {
     "data": {
      "text/plain": [
       "np.float64(0.025984595911204177)"
      ]
     },
     "execution_count": 3,
     "metadata": {},
     "output_type": "execute_result"
    }
   ],
   "source": [
    "# check average new predictions\n",
    "np.mean(new_preds)"
   ]
  }
 ],
 "metadata": {
  "kernelspec": {
   "display_name": ".venv",
   "language": "python",
   "name": "python3"
  },
  "language_info": {
   "codemirror_mode": {
    "name": "ipython",
    "version": 3
   },
   "file_extension": ".py",
   "mimetype": "text/x-python",
   "name": "python",
   "nbconvert_exporter": "python",
   "pygments_lexer": "ipython3",
   "version": "3.13.0"
  }
 },
 "nbformat": 4,
 "nbformat_minor": 5
}
