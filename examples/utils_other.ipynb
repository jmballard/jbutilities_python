{
 "cells": [
  {
   "cell_type": "markdown",
   "id": "6c96a80e",
   "metadata": {},
   "source": [
    "# Other Utils example\n",
    "This file is used to show how to use other functions in the utils module"
   ]
  },
  {
   "cell_type": "code",
   "execution_count": 1,
   "id": "f4025bb5",
   "metadata": {},
   "outputs": [],
   "source": [
    "import numpy as np\n",
    "import pandas as pd\n",
    "from sklearn import datasets\n",
    "from pathlib import Path\n",
    "\n",
    "# functions to test\n",
    "import os\n",
    "import sys\n",
    "sys.path.append(os.path.abspath(os.path.join(os.getcwd(), '..')))\n",
    "\n",
    "from toolkit import utils"
   ]
  },
  {
   "cell_type": "markdown",
   "id": "20adbdf6",
   "metadata": {},
   "source": [
    "## Misc\n",
    "Let's test all functions in the misc file first"
   ]
  },
  {
   "cell_type": "code",
   "execution_count": 2,
   "id": "d053521c",
   "metadata": {},
   "outputs": [
    {
     "data": {
      "text/html": [
       "<div>\n",
       "<style scoped>\n",
       "    .dataframe tbody tr th:only-of-type {\n",
       "        vertical-align: middle;\n",
       "    }\n",
       "\n",
       "    .dataframe tbody tr th {\n",
       "        vertical-align: top;\n",
       "    }\n",
       "\n",
       "    .dataframe thead th {\n",
       "        text-align: right;\n",
       "    }\n",
       "</style>\n",
       "<table border=\"1\" class=\"dataframe\">\n",
       "  <thead>\n",
       "    <tr style=\"text-align: right;\">\n",
       "      <th></th>\n",
       "      <th>a</th>\n",
       "      <th>b</th>\n",
       "    </tr>\n",
       "  </thead>\n",
       "  <tbody>\n",
       "    <tr>\n",
       "      <th>0</th>\n",
       "      <td>1</td>\n",
       "      <td>A</td>\n",
       "    </tr>\n",
       "    <tr>\n",
       "      <th>1</th>\n",
       "      <td>1</td>\n",
       "      <td>B</td>\n",
       "    </tr>\n",
       "    <tr>\n",
       "      <th>2</th>\n",
       "      <td>2</td>\n",
       "      <td>A</td>\n",
       "    </tr>\n",
       "    <tr>\n",
       "      <th>3</th>\n",
       "      <td>2</td>\n",
       "      <td>B</td>\n",
       "    </tr>\n",
       "  </tbody>\n",
       "</table>\n",
       "</div>"
      ],
      "text/plain": [
       "   a  b\n",
       "0  1  A\n",
       "1  1  B\n",
       "2  2  A\n",
       "3  2  B"
      ]
     },
     "execution_count": 2,
     "metadata": {},
     "output_type": "execute_result"
    }
   ],
   "source": [
    "# expand grid\n",
    "input_dict = {'a':[1,2],'b':['A','B']}\n",
    "utils.misc.expand_grid(input_dict)"
   ]
  },
  {
   "cell_type": "code",
   "execution_count": 3,
   "id": "e85fa2c2",
   "metadata": {},
   "outputs": [
    {
     "data": {
      "text/plain": [
       "'(1.000) - [07/24/2025, 15:18:30]'"
      ]
     },
     "execution_count": 3,
     "metadata": {},
     "output_type": "execute_result"
    }
   ],
   "source": [
    "# step and time\n",
    "utils.misc.step_time(step = 1, digits=3)"
   ]
  },
  {
   "cell_type": "markdown",
   "id": "7a1d728d",
   "metadata": {},
   "source": [
    "## All other functions"
   ]
  },
  {
   "cell_type": "code",
   "execution_count": 4,
   "id": "3a716709",
   "metadata": {},
   "outputs": [
    {
     "data": {
      "text/plain": [
       "'a'"
      ]
     },
     "execution_count": 4,
     "metadata": {},
     "output_type": "execute_result"
    }
   ],
   "source": [
    "# get local variable name\n",
    "a = 3\n",
    "def foo(x):\n",
    "    return utils.get_variable_name.get_local_variable_name(x)\n",
    "foo(a)"
   ]
  },
  {
   "cell_type": "code",
   "execution_count": 5,
   "id": "571b2f7d",
   "metadata": {},
   "outputs": [
    {
     "data": {
      "text/plain": [
       "'aasdkjh213987-a-kh'"
      ]
     },
     "execution_count": 5,
     "metadata": {},
     "output_type": "execute_result"
    }
   ],
   "source": [
    "# snake case\n",
    "utils.snake_case.snake_case(string = \"aasdkjh213987_AKh\")"
   ]
  }
 ],
 "metadata": {
  "kernelspec": {
   "display_name": ".venv",
   "language": "python",
   "name": "python3"
  },
  "language_info": {
   "codemirror_mode": {
    "name": "ipython",
    "version": 3
   },
   "file_extension": ".py",
   "mimetype": "text/x-python",
   "name": "python",
   "nbconvert_exporter": "python",
   "pygments_lexer": "ipython3",
   "version": "3.13.0"
  }
 },
 "nbformat": 4,
 "nbformat_minor": 5
}
