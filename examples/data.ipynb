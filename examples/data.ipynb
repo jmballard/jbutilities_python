{
 "cells": [
  {
   "cell_type": "markdown",
   "id": "0",
   "metadata": {},
   "source": [
    "# Data example\n",
    "\n",
    "This file is used to show how to use the methods & classes within the data module."
   ]
  },
  {
   "cell_type": "code",
   "execution_count": null,
   "id": "1",
   "metadata": {},
   "outputs": [],
   "source": [
    "import numpy as np\n",
    "import pandas as pd\n",
    "from sklearn import datasets\n",
    "\n",
    "# functions to test\n",
    "import os\n",
    "import sys\n",
    "sys.path.append(os.path.abspath(os.path.join(os.getcwd(), '..')))\n",
    "\n",
    "import toolkit.data.creation as dc\n",
    "import toolkit.data.eda as eda"
   ]
  },
  {
   "cell_type": "markdown",
   "id": "2",
   "metadata": {},
   "source": [
    "## Data Creation\n",
    "In this section, we test the creation of a dataset"
   ]
  },
  {
   "cell_type": "code",
   "execution_count": null,
   "id": "3",
   "metadata": {},
   "outputs": [],
   "source": [
    "#let's create a random dataset\n",
    "dc.create_df_rd(\n",
    "    size=10, # rows number\n",
    "    seed=1234, # fixed random seed\n",
    "    numerics={\n",
    "        \"num1\": None, # normally distributed, mean 0 std 1\n",
    "        \"num2\": [3, 1]}, # normally distributed, mean 3 std 1\n",
    "    booleans={\"bool1\": 0.5}, # Binomial distributed, prob True = 0.5\n",
    "    categories={\n",
    "        \"a\": [1, 2, 3], # multinomial distributed, with 3 values each prob 1/3\n",
    "        \"b\": [\"F\", \"M\"]},) # multinomial distributed, with 2 values each prob 1/2"
   ]
  },
  {
   "cell_type": "code",
   "execution_count": null,
   "id": "4",
   "metadata": {},
   "outputs": [],
   "source": []
  }
 ],
 "metadata": {
  "kernelspec": {
   "display_name": ".venv",
   "language": "python",
   "name": "python3"
  },
  "language_info": {
   "codemirror_mode": {
    "name": "ipython",
    "version": 3
   },
   "file_extension": ".py",
   "mimetype": "text/x-python",
   "name": "python",
   "nbconvert_exporter": "python",
   "pygments_lexer": "ipython3",
   "version": "3.13.0"
  }
 },
 "nbformat": 4,
 "nbformat_minor": 5
}
