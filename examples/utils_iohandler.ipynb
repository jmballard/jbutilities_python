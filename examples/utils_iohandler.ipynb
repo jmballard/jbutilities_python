{
 "cells": [
  {
   "cell_type": "markdown",
   "id": "6c96a80e",
   "metadata": {},
   "source": [
    "# IO Handler example\n",
    "This file is used to show how to use the class \"IOHandler\" that is within the utils module."
   ]
  },
  {
   "cell_type": "code",
   "execution_count": 1,
   "id": "f4025bb5",
   "metadata": {},
   "outputs": [],
   "source": [
    "import numpy as np\n",
    "import pandas as pd\n",
    "from sklearn import datasets\n",
    "from pathlib import Path\n",
    "\n",
    "# functions to test\n",
    "import os\n",
    "import sys\n",
    "sys.path.append(os.path.abspath(os.path.join(os.getcwd(), '..')))\n",
    "\n",
    "from toolkit.utils.iohandler import IOHandler"
   ]
  },
  {
   "cell_type": "markdown",
   "id": "18e6afd4",
   "metadata": {},
   "source": [
    "## setup"
   ]
  },
  {
   "cell_type": "code",
   "execution_count": 2,
   "id": "1dd7dca6",
   "metadata": {},
   "outputs": [
    {
     "data": {
      "text/plain": [
       "{}"
      ]
     },
     "execution_count": 2,
     "metadata": {},
     "output_type": "execute_result"
    }
   ],
   "source": [
    "empty_handler = IOHandler()\n",
    "empty_handler"
   ]
  },
  {
   "cell_type": "code",
   "execution_count": 3,
   "id": "089c4a2c",
   "metadata": {},
   "outputs": [
    {
     "data": {
      "text/plain": [
       "{'test1': 1,\n",
       " 'test2': 2,\n",
       " 'test_file_path': 'd:\\\\Analysis\\\\jbutilities_python\\\\examples\\\\test_dir\\\\test_file.yaml',\n",
       " 'test_file_path2': 'd:\\\\Analysis\\\\jbutilities_python\\\\examples\\\\test_file.txt',\n",
       " 'test_dir': 'd:\\\\Analysis\\\\jbutilities_python\\\\examples\\\\test_dir',\n",
       " 'test_parent': 'd:\\\\Analysis\\\\jbutilities_python\\\\examples'}"
      ]
     },
     "execution_count": 3,
     "metadata": {},
     "output_type": "execute_result"
    }
   ],
   "source": [
    "io_expected = {\n",
    "        'test1':1,\n",
    "        'test2':2,\n",
    "        'test_file_path': os.path.join(os.getcwd(),\"test_dir\", \"test_file.yaml\"),\n",
    "        'test_file_path2': os.path.join(os.getcwd(),\"test_file.txt\"),\n",
    "        'test_dir': os.path.join(os.getcwd(),\"test_dir\"),\n",
    "        'test_parent': os.getcwd()\n",
    "    }\n",
    "handler_from_dict = IOHandler(io_expected)\n",
    "handler_from_dict"
   ]
  },
  {
   "cell_type": "markdown",
   "id": "71516d8e",
   "metadata": {},
   "source": [
    "## Basic uses\n",
    "As the class has been created as a sub class of Python dictionaries, we have the same methods as dictionaries' ones. Here are some examples:"
   ]
  },
  {
   "cell_type": "code",
   "execution_count": 4,
   "id": "d248812e",
   "metadata": {},
   "outputs": [
    {
     "data": {
      "text/plain": [
       "1"
      ]
     },
     "execution_count": 4,
     "metadata": {},
     "output_type": "execute_result"
    }
   ],
   "source": [
    "handler_from_dict['test1']"
   ]
  },
  {
   "cell_type": "code",
   "execution_count": 5,
   "id": "e7136d4f",
   "metadata": {},
   "outputs": [
    {
     "data": {
      "text/plain": [
       "dict_keys(['test1', 'test2', 'test_file_path', 'test_file_path2', 'test_dir', 'test_parent'])"
      ]
     },
     "execution_count": 5,
     "metadata": {},
     "output_type": "execute_result"
    }
   ],
   "source": [
    "handler_from_dict.keys()"
   ]
  },
  {
   "cell_type": "markdown",
   "id": "2ef34e83",
   "metadata": {},
   "source": [
    "## Custom methods\n",
    "Below are all the custom methods specific to our class"
   ]
  },
  {
   "cell_type": "code",
   "execution_count": 6,
   "id": "f9a2bfaf",
   "metadata": {},
   "outputs": [
    {
     "data": {
      "text/plain": [
       "['data.ipynb', 'model_glm.ipynb', 'utils_iohandler.ipynb']"
      ]
     },
     "execution_count": 6,
     "metadata": {},
     "output_type": "execute_result"
    }
   ],
   "source": [
    "# check files before adding a folder\n",
    "handler_from_dict.list_files(\"test_parent\")"
   ]
  },
  {
   "cell_type": "code",
   "execution_count": 7,
   "id": "029eb1fd",
   "metadata": {},
   "outputs": [],
   "source": [
    "# create a folder\n",
    "handler_from_dict.create_dir(\"test_dir\")"
   ]
  },
  {
   "cell_type": "code",
   "execution_count": 8,
   "id": "db2f9fe9",
   "metadata": {},
   "outputs": [
    {
     "data": {
      "text/plain": [
       "['data.ipynb', 'model_glm.ipynb', 'test_dir', 'utils_iohandler.ipynb']"
      ]
     },
     "execution_count": 8,
     "metadata": {},
     "output_type": "execute_result"
    }
   ],
   "source": [
    "# check files after adding a folder\n",
    "handler_from_dict.list_files(\"test_parent\")"
   ]
  },
  {
   "cell_type": "code",
   "execution_count": 9,
   "id": "d6e61735",
   "metadata": {},
   "outputs": [],
   "source": [
    "handler_from_dict.dump(handler_from_dict['test_file_path'])"
   ]
  },
  {
   "cell_type": "code",
   "execution_count": 10,
   "id": "22465841",
   "metadata": {},
   "outputs": [
    {
     "data": {
      "text/plain": [
       "['test_file.yaml']"
      ]
     },
     "execution_count": 10,
     "metadata": {},
     "output_type": "execute_result"
    }
   ],
   "source": [
    "# check files after adding a file\n",
    "handler_from_dict.list_files(\"test_dir\")"
   ]
  },
  {
   "cell_type": "code",
   "execution_count": 11,
   "id": "b1b6d372",
   "metadata": {},
   "outputs": [],
   "source": [
    "# delete the yaml we just dumped\n",
    "handler_from_dict.delete_path('test_file_path')"
   ]
  },
  {
   "cell_type": "code",
   "execution_count": 12,
   "id": "d699b833",
   "metadata": {},
   "outputs": [
    {
     "data": {
      "text/plain": [
       "[]"
      ]
     },
     "execution_count": 12,
     "metadata": {},
     "output_type": "execute_result"
    }
   ],
   "source": [
    "# check files after deleting a file\n",
    "handler_from_dict.list_files(\"test_dir\")"
   ]
  },
  {
   "cell_type": "code",
   "execution_count": 13,
   "id": "3818e788",
   "metadata": {},
   "outputs": [],
   "source": [
    "# delete the folder\n",
    "handler_from_dict.delete_path('test_dir')"
   ]
  },
  {
   "cell_type": "code",
   "execution_count": 14,
   "id": "cdd95c98",
   "metadata": {},
   "outputs": [
    {
     "data": {
      "text/plain": [
       "['data.ipynb', 'model_glm.ipynb', 'utils_iohandler.ipynb']"
      ]
     },
     "execution_count": 14,
     "metadata": {},
     "output_type": "execute_result"
    }
   ],
   "source": [
    "# check files after removing directory\n",
    "handler_from_dict.list_files(\"test_parent\")"
   ]
  },
  {
   "cell_type": "code",
   "execution_count": null,
   "id": "e8e1faa2",
   "metadata": {},
   "outputs": [
    {
     "name": "stdout",
     "output_type": "stream",
     "text": [
      "The file d:\\Analysis\\jbutilities_python\\examples\\test_file.txt doesn't exist\n"
     ]
    }
   ],
   "source": [
    "# show that this file doesn't exists yet\n",
    "handler_from_dict.find_last_version(\"test_file_path2\")"
   ]
  },
  {
   "cell_type": "code",
   "execution_count": null,
   "id": "b9cdef12",
   "metadata": {},
   "outputs": [
    {
     "data": {
      "text/plain": [
       "'d:\\\\Analysis\\\\jbutilities_python\\\\examples\\\\utils_iohandler.ipynb'"
      ]
     },
     "execution_count": 17,
     "metadata": {},
     "output_type": "execute_result"
    }
   ],
   "source": [
    "# add the path to this file to the dictionary - this time it returns the path\n",
    "handler_from_dict['this_file'] = os.path.join(os.getcwd(),\"utils_iohandler.ipynb\")\n",
    "handler_from_dict.find_last_version(\"this_file\")"
   ]
  },
  {
   "cell_type": "code",
   "execution_count": null,
   "id": "b2905485",
   "metadata": {},
   "outputs": [
    {
     "data": {
      "text/plain": [
       "'d:\\\\Analysis\\\\jbutilities_python\\\\examples\\\\test_file.txt'"
      ]
     },
     "execution_count": 16,
     "metadata": {},
     "output_type": "execute_result"
    }
   ],
   "source": [
    "# because the file doesn't exist yet, it returns its path\n",
    "handler_from_dict.next_version(\"test_file_path2\")"
   ]
  },
  {
   "cell_type": "code",
   "execution_count": null,
   "id": "1d7808f8",
   "metadata": {},
   "outputs": [
    {
     "data": {
      "text/plain": [
       "'d:\\\\Analysis\\\\jbutilities_python\\\\examples\\\\utils_iohandler_1.ipynb'"
      ]
     },
     "execution_count": 18,
     "metadata": {},
     "output_type": "execute_result"
    }
   ],
   "source": [
    "# since the file already exists, it adds a \"_1\" to the name\n",
    "handler_from_dict.next_version(\"this_file\")"
   ]
  }
 ],
 "metadata": {
  "kernelspec": {
   "display_name": ".venv",
   "language": "python",
   "name": "python3"
  },
  "language_info": {
   "codemirror_mode": {
    "name": "ipython",
    "version": 3
   },
   "file_extension": ".py",
   "mimetype": "text/x-python",
   "name": "python",
   "nbconvert_exporter": "python",
   "pygments_lexer": "ipython3",
   "version": "3.13.0"
  }
 },
 "nbformat": 4,
 "nbformat_minor": 5
}
